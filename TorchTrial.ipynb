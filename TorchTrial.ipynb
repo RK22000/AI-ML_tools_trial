{
  "nbformat": 4,
  "nbformat_minor": 0,
  "metadata": {
    "colab": {
      "provenance": [],
      "authorship_tag": "ABX9TyNL5nkRgyuacIE6IZX80wBQ",
      "include_colab_link": true
    },
    "kernelspec": {
      "name": "python3",
      "display_name": "Python 3"
    },
    "language_info": {
      "name": "python"
    }
  },
  "cells": [
    {
      "cell_type": "markdown",
      "metadata": {
        "id": "view-in-github",
        "colab_type": "text"
      },
      "source": [
        "<a href=\"https://colab.research.google.com/github/RK22000/AI-ML_tools_trial/blob/main/TorchTrial.ipynb\" target=\"_parent\"><img src=\"https://colab.research.google.com/assets/colab-badge.svg\" alt=\"Open In Colab\"/></a>"
      ]
    },
    {
      "cell_type": "code",
      "source": [
        "import torch\n",
        "import torchvision.transforms as T\n",
        "import matplotlib.pyplot as plt\n"
      ],
      "metadata": {
        "id": "t6s25cMFZh_E"
      },
      "execution_count": 5,
      "outputs": []
    },
    {
      "cell_type": "code",
      "execution_count": 125,
      "metadata": {
        "id": "wJ4XRvipZBAp"
      },
      "outputs": [],
      "source": [
        "# Say we have some data modeled by the function z = 29x + 14y + 5\n",
        "a, b, c = 29.0, 14.0, 5.0\n",
        "samples = torch.rand(1000, 2)*100\n",
        "#torch.matmul(samples, torch.tensor([4, 5]))\n",
        "\n",
        "z = []\n",
        "for ip in samples:\n",
        "  z.append(torch.matmul(ip, torch.tensor([a, b])) + c + torch.rand(1))\n",
        "#z"
      ]
    },
    {
      "cell_type": "code",
      "source": [
        "w = torch.rand(2, requires_grad=True)\n",
        "b = torch.rand(1, requires_grad=True)\n"
      ],
      "metadata": {
        "id": "O_m1F296quJN"
      },
      "execution_count": 139,
      "outputs": []
    },
    {
      "cell_type": "code",
      "source": [
        "lr = 5e-6\n",
        "loss_fn = torch.nn.MSELoss()\n",
        "_a, _b, _c = [w[0].item()], [w[1].item()], [b.item()]\n",
        "_loss = []\n",
        "for i, (x, target) in enumerate(zip(samples, z)):\n",
        "  #print(x, y, target)\n",
        "  #print(i)\n",
        "  y = torch.matmul(x, w) + b\n",
        "  #print(w.requires_grad)\n",
        "  loss = loss_fn(target, y)\n",
        "  loss.backward()\n",
        "  if (i+1)%10 == 0:\n",
        "    w_step = w.grad*lr\n",
        "    b_step = b.grad*lr\n",
        "    with torch.no_grad():\n",
        "      w -= w_step\n",
        "      b -= b_step\n",
        "    w.grad.zero_()\n",
        "    b.grad.zero_()\n",
        "    _loss.append(loss)\n",
        "    _a.append(w[0].item())\n",
        "    _b.append(w[1].item())\n",
        "    _c.append(b.item())\n",
        "\n",
        "#_a, _b, _c, _loss"
      ],
      "metadata": {
        "id": "9QsYrpHIj2cD"
      },
      "execution_count": 140,
      "outputs": []
    },
    {
      "cell_type": "code",
      "source": [
        "xmin, xmax = 0, 100\n",
        "plt.plot([i.item() for i in _loss])\n",
        "plt.figure()\n",
        "plt.plot([i for i in _a])\n",
        "plt.hlines(29, xmin, xmax)\n",
        "plt.figure()\n",
        "plt.plot([i for i in _b])\n",
        "plt.hlines(15, xmin, xmax)\n",
        "plt.figure()\n",
        "plt.plot([i for i in _c])\n",
        "plt.hlines(5, xmin, xmax)"
      ],
      "metadata": {
        "colab": {
          "base_uri": "https://localhost:8080/",
          "height": 1000
        },
        "id": "QqUPievFlEyE",
        "outputId": "07af89ec-e254-4c16-c25f-89ba369cda14"
      },
      "execution_count": 141,
      "outputs": [
        {
          "output_type": "execute_result",
          "data": {
            "text/plain": [
              "<matplotlib.collections.LineCollection at 0x7fbeb36f9c10>"
            ]
          },
          "metadata": {},
          "execution_count": 141
        },
        {
          "output_type": "display_data",
          "data": {
            "text/plain": [
              "<Figure size 432x288 with 1 Axes>"
            ],
            "image/png": "[encoded data removed]"
          },
          "metadata": {
            "needs_background": "light"
          }
        },
        {
          "output_type": "display_data",
          "data": {
            "text/plain": [
              "<Figure size 432x288 with 1 Axes>"
            ],
            "image/png": "[encoded data removed]"
          },
          "metadata": {
            "needs_background": "light"
          }
        },
        {
          "output_type": "display_data",
          "data": {
            "text/plain": [
              "<Figure size 432x288 with 1 Axes>"
            ],
            "image/png": "[encoded data removed]"
          },
          "metadata": {
            "needs_background": "light"
          }
        },
        {
          "output_type": "display_data",
          "data": {
            "text/plain": [
              "<Figure size 432x288 with 1 Axes>"
            ],
            "image/png": "[encoded data removed]"
          },
          "metadata": {
            "needs_background": "light"
          }
        }
      ]
    },
    {
      "cell_type": "code",
      "source": [],
      "metadata": {
        "id": "83C5cuHMzueT"
      },
      "execution_count": null,
      "outputs": []
    }
  ]
}